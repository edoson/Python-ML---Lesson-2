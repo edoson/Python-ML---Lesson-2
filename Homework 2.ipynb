{
 "cells": [
  {
   "cell_type": "markdown",
   "id": "31ac9a75-202d-4185-b028-9f7d7015417f",
   "metadata": {},
   "source": [
    "## Homework 2"
   ]
  },
  {
   "cell_type": "markdown",
   "id": "3826d896-4ae5-4b37-9a00-15a89acb5595",
   "metadata": {},
   "source": [
    "## Statistics"
   ]
  },
  {
   "cell_type": "markdown",
   "id": "53318c34-b855-4fe6-b0a8-f4c23793a888",
   "metadata": {},
   "source": [
    "### Distributions"
   ]
  },
  {
   "cell_type": "markdown",
   "id": "d0006bd2-ce5e-4478-b9e2-0ebaab037a42",
   "metadata": {},
   "source": [
    "<font size=3 color='red'><b>Exercise 1: Sample from a non-standard normal distribution and verify that indeed 95% of the data fall between two standard deviations from the mean</b></font>"
   ]
  },
  {
   "cell_type": "markdown",
   "id": "9198c090-4a03-4305-a0dd-3ff827a73204",
   "metadata": {},
   "source": [
    "<font size=3 color='red'><b>Exercise 2: Normalize the samples from above, and verify that it was standardize using mean and std calculations</b></font>"
   ]
  },
  {
   "cell_type": "markdown",
   "id": "a6bdafeb-317c-45f1-bbed-c083569c0b08",
   "metadata": {},
   "source": [
    "### Confidance intervals"
   ]
  },
  {
   "cell_type": "code",
   "execution_count": 49,
   "id": "3ab8e99f-d43b-4c31-a062-ec708f49eb04",
   "metadata": {},
   "outputs": [
    {
     "name": "stdout",
     "output_type": "stream",
     "text": [
      "95.7\n",
      "957\n"
     ]
    }
   ],
   "source": [
    "import plotly_express as px\n",
    "import numpy as np\n",
    "import scipy.stats as stats\n",
    "import math\n",
    "import pandas as pd\n",
    "def sample_from_normal_distribution(mu=0, sigma=1, n_samples=100):\n",
    "    import numpy as np\n",
    "    return pd.DataFrame({'sample': np.random.normal(loc=mu, scale=sigma, size=n_samples)})\n",
    "test_sample = sample_from_normal_distribution(0,1,1000)\n",
    "tst_mean = test_sample.mean()[0]\n",
    "tst_mean_stdv = math.sqrt(test_sample.var())\n",
    "lower_limit, upper_limit = tst_mean - 2*tst_mean_stdv, tst_mean + 2*tst_mean_stdv\n",
    "tst_sum = 0\n",
    "for x in test_sample.values:\n",
    "    if x > lower_limit and x < upper_limit:\n",
    "        tst_sum += 1\n",
    "print(100 * tst_sum / test_sample.shape[0])\n",
    "print(tst_sum)"
   ]
  },
  {
   "cell_type": "markdown",
   "id": "61db1dd5-a93b-4943-8c57-d3a9f6230123",
   "metadata": {},
   "source": [
    "## Python coding and algorithms"
   ]
  },
  {
   "cell_type": "markdown",
   "id": "83748d1f-56ba-4758-9a25-4e39df6e2b23",
   "metadata": {},
   "source": [
    "### Easy"
   ]
  },
  {
   "cell_type": "markdown",
   "id": "61a91d25-d093-4c77-9a22-5d455671dbec",
   "metadata": {},
   "source": [
    "[Write a function to find the longest common prefix string amongst an array of strings `strs`.\n",
    "If there is no common prefix, return an empty string `\"\"`](https://leetcode.com/problems/longest-common-prefix/solution/).\n",
    "\n",
    " \n",
    "**Example 1:**\n",
    "\n",
    "`Input: strs = [\"flower\",\"flow\",\"flight\"]`\n",
    "\n",
    "`Output: \"fl\"`\n",
    "\n",
    "**Example 2:**\n",
    "\n",
    "`Input: strs = [\"dog\",\"racecar\",\"car\"]`\n",
    "\n",
    "`Output: \"\"`\n",
    "\n",
    "Explanation: There is no common prefix among the input strings.\n",
    " \n",
    "\n",
    "**Constraints:**\n",
    "\n",
    "1 <= strs.length <= 200\n",
    "\n",
    "0 <= strs[i].length <= 200\n",
    "\n",
    "strs[i] consists of only lower-case English letters."
   ]
  },
  {
   "cell_type": "code",
   "execution_count": 50,
   "id": "5093ba67-851b-4207-a5f7-e0885ffe2e62",
   "metadata": {},
   "outputs": [],
   "source": [
    "def longestCommonPrefix(strs): \n",
    "    if not strs:\n",
    "        return ''\n",
    "    shortest_word = min(strs, key=len)\n",
    "    common_prefix = ''\n",
    "    for i in range(len(shortest_word)):\n",
    "        prefix=shortest_word[:i]\n",
    "        for s in strs:\n",
    "            if prefix != s[:i]:\n",
    "                return common_prefix\n",
    "        common_prefix = prefix\n",
    "    return shortest_word"
   ]
  },
  {
   "cell_type": "code",
   "execution_count": 54,
   "id": "b250bfa1-5bd9-4654-a39b-3f2d9fdc6f65",
   "metadata": {},
   "outputs": [],
   "source": [
    "assert(longestCommonPrefix(None)=='')\n",
    "assert(longestCommonPrefix(['','',''])=='')\n",
    "assert(longestCommonPrefix(['a','ab','abc'])=='a')\n",
    "assert(longestCommonPrefix(['ab','abc','abc'])=='ab')"
   ]
  },
  {
   "cell_type": "markdown",
   "id": "e6bc9210-3086-427d-9e05-a68d7124a722",
   "metadata": {},
   "source": [
    "### Medium"
   ]
  },
  {
   "cell_type": "markdown",
   "id": "ba6750f7-0ffc-4b66-81ad-cc3452820bd3",
   "metadata": {},
   "source": [
    "Given an integer array `nums` of length `n` and an integer target, find three integers in `nums` such that the sum is closest to target.\n",
    "\n",
    "Return the sum of the three integers.\n",
    "\n",
    "You may assume that each input would have exactly one solution.\n",
    "\n",
    " \n",
    "\n",
    "**Example 1:**\n",
    "\n",
    "Input: nums = [-1,2,1,-4], target = 1  \n",
    "Output: 2  \n",
    "Explanation: The sum that is closest to the target is 2. (-1 + 2 + 1 = 2).  \n",
    "\n",
    "**Example 2:**  \n",
    "Input: nums = [0,0,0], target = 1  \n",
    "Output: 0  \n",
    " \n",
    "\n",
    "Constraints:\n",
    "\n",
    "3 <= nums.length <= 1000  \n",
    "-1000 <= nums[i] <= 1000  \n",
    "-104 <= target <= 104  "
   ]
  },
  {
   "cell_type": "markdown",
   "id": "28a8c88b-4f5d-4b54-b83e-67ef6bddd9d7",
   "metadata": {},
   "source": [
    "## Solution"
   ]
  },
  {
   "cell_type": "code",
   "execution_count": 3,
   "id": "26150c95-aac2-4a03-ae0b-954c639a49b1",
   "metadata": {},
   "outputs": [],
   "source": [
    "def longestCommonPrefix(strs): \n",
    "    pass"
   ]
  },
  {
   "cell_type": "code",
   "execution_count": 2,
   "id": "c2704b8c-2e32-44c1-a7b1-d562af2a05dd",
   "metadata": {
    "tags": []
   },
   "outputs": [],
   "source": [
    "def longestCommonPrefix(strs):  \n",
    "    shortest_word = sorted(strs, key=lambda x: len(x))[0]\n",
    "    common_prefix = ''\n",
    "    for i in range(len(shortest_word)):\n",
    "        prefix=shortest_word[:i]\n",
    "        for s in strs:\n",
    "            if prefix != s[:i]:\n",
    "                return common_prefix\n",
    "        common_prefix = prefix\n",
    "    return shortest_word"
   ]
  },
  {
   "cell_type": "code",
   "execution_count": null,
   "id": "0f8403c2-d3d2-40ea-9ea3-0885e1e02c11",
   "metadata": {},
   "outputs": [],
   "source": []
  }
 ],
 "metadata": {
  "kernelspec": {
   "display_name": "Python 3 (ipykernel)",
   "language": "python",
   "name": "python3"
  },
  "language_info": {
   "codemirror_mode": {
    "name": "ipython",
    "version": 3
   },
   "file_extension": ".py",
   "mimetype": "text/x-python",
   "name": "python",
   "nbconvert_exporter": "python",
   "pygments_lexer": "ipython3",
   "version": "3.9.7"
  }
 },
 "nbformat": 4,
 "nbformat_minor": 5
}
